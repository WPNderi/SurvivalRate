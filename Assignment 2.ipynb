{
 "cells": [
  {
   "cell_type": "markdown",
   "metadata": {},
   "source": [
    "## Task 1: Data Retrieving"
   ]
  },
  {
   "cell_type": "code",
   "execution_count": 1,
   "metadata": {},
   "outputs": [],
   "source": [
    "#Importing libraries\n",
    "import pandas as pd\n",
    "import numpy as np\n",
    "import matplotlib.pyplot as plt\n",
    "import seaborn as sns"
   ]
  },
  {
   "cell_type": "code",
   "execution_count": 2,
   "metadata": {},
   "outputs": [],
   "source": [
    "#Reading the data\n",
    "data1 = pd.read_csv('haberman.data.csv', sep=',', header=None, names=['age', 'year', 'nodes', 'status'])"
   ]
  },
  {
   "cell_type": "code",
   "execution_count": 3,
   "metadata": {},
   "outputs": [
    {
     "data": {
      "text/html": [
       "<div>\n",
       "<style scoped>\n",
       "    .dataframe tbody tr th:only-of-type {\n",
       "        vertical-align: middle;\n",
       "    }\n",
       "\n",
       "    .dataframe tbody tr th {\n",
       "        vertical-align: top;\n",
       "    }\n",
       "\n",
       "    .dataframe thead th {\n",
       "        text-align: right;\n",
       "    }\n",
       "</style>\n",
       "<table border=\"1\" class=\"dataframe\">\n",
       "  <thead>\n",
       "    <tr style=\"text-align: right;\">\n",
       "      <th></th>\n",
       "      <th>age</th>\n",
       "      <th>year</th>\n",
       "      <th>nodes</th>\n",
       "      <th>status</th>\n",
       "    </tr>\n",
       "  </thead>\n",
       "  <tbody>\n",
       "    <tr>\n",
       "      <th>0</th>\n",
       "      <td>30</td>\n",
       "      <td>64</td>\n",
       "      <td>1</td>\n",
       "      <td>1</td>\n",
       "    </tr>\n",
       "    <tr>\n",
       "      <th>1</th>\n",
       "      <td>30</td>\n",
       "      <td>62</td>\n",
       "      <td>3</td>\n",
       "      <td>1</td>\n",
       "    </tr>\n",
       "    <tr>\n",
       "      <th>2</th>\n",
       "      <td>30</td>\n",
       "      <td>65</td>\n",
       "      <td>0</td>\n",
       "      <td>1</td>\n",
       "    </tr>\n",
       "    <tr>\n",
       "      <th>3</th>\n",
       "      <td>31</td>\n",
       "      <td>59</td>\n",
       "      <td>2</td>\n",
       "      <td>1</td>\n",
       "    </tr>\n",
       "    <tr>\n",
       "      <th>4</th>\n",
       "      <td>31</td>\n",
       "      <td>65</td>\n",
       "      <td>4</td>\n",
       "      <td>1</td>\n",
       "    </tr>\n",
       "  </tbody>\n",
       "</table>\n",
       "</div>"
      ],
      "text/plain": [
       "   age  year  nodes  status\n",
       "0   30    64      1       1\n",
       "1   30    62      3       1\n",
       "2   30    65      0       1\n",
       "3   31    59      2       1\n",
       "4   31    65      4       1"
      ]
     },
     "execution_count": 3,
     "metadata": {},
     "output_type": "execute_result"
    }
   ],
   "source": [
    "#Viewing the data\n",
    "data1.head()"
   ]
  },
  {
   "cell_type": "code",
   "execution_count": 4,
   "metadata": {},
   "outputs": [
    {
     "data": {
      "text/html": [
       "<div>\n",
       "<style scoped>\n",
       "    .dataframe tbody tr th:only-of-type {\n",
       "        vertical-align: middle;\n",
       "    }\n",
       "\n",
       "    .dataframe tbody tr th {\n",
       "        vertical-align: top;\n",
       "    }\n",
       "\n",
       "    .dataframe thead th {\n",
       "        text-align: right;\n",
       "    }\n",
       "</style>\n",
       "<table border=\"1\" class=\"dataframe\">\n",
       "  <thead>\n",
       "    <tr style=\"text-align: right;\">\n",
       "      <th></th>\n",
       "      <th>age</th>\n",
       "      <th>year</th>\n",
       "      <th>nodes</th>\n",
       "      <th>status</th>\n",
       "    </tr>\n",
       "  </thead>\n",
       "  <tbody>\n",
       "    <tr>\n",
       "      <th>0</th>\n",
       "      <td>30</td>\n",
       "      <td>64</td>\n",
       "      <td>1</td>\n",
       "      <td>1</td>\n",
       "    </tr>\n",
       "    <tr>\n",
       "      <th>1</th>\n",
       "      <td>30</td>\n",
       "      <td>62</td>\n",
       "      <td>3</td>\n",
       "      <td>1</td>\n",
       "    </tr>\n",
       "    <tr>\n",
       "      <th>2</th>\n",
       "      <td>30</td>\n",
       "      <td>65</td>\n",
       "      <td>0</td>\n",
       "      <td>1</td>\n",
       "    </tr>\n",
       "    <tr>\n",
       "      <th>3</th>\n",
       "      <td>31</td>\n",
       "      <td>59</td>\n",
       "      <td>2</td>\n",
       "      <td>1</td>\n",
       "    </tr>\n",
       "    <tr>\n",
       "      <th>4</th>\n",
       "      <td>31</td>\n",
       "      <td>65</td>\n",
       "      <td>4</td>\n",
       "      <td>1</td>\n",
       "    </tr>\n",
       "    <tr>\n",
       "      <th>5</th>\n",
       "      <td>33</td>\n",
       "      <td>58</td>\n",
       "      <td>10</td>\n",
       "      <td>1</td>\n",
       "    </tr>\n",
       "    <tr>\n",
       "      <th>6</th>\n",
       "      <td>33</td>\n",
       "      <td>60</td>\n",
       "      <td>0</td>\n",
       "      <td>1</td>\n",
       "    </tr>\n",
       "    <tr>\n",
       "      <th>7</th>\n",
       "      <td>34</td>\n",
       "      <td>59</td>\n",
       "      <td>0</td>\n",
       "      <td>2</td>\n",
       "    </tr>\n",
       "    <tr>\n",
       "      <th>8</th>\n",
       "      <td>34</td>\n",
       "      <td>66</td>\n",
       "      <td>9</td>\n",
       "      <td>2</td>\n",
       "    </tr>\n",
       "    <tr>\n",
       "      <th>9</th>\n",
       "      <td>34</td>\n",
       "      <td>58</td>\n",
       "      <td>30</td>\n",
       "      <td>1</td>\n",
       "    </tr>\n",
       "    <tr>\n",
       "      <th>10</th>\n",
       "      <td>34</td>\n",
       "      <td>60</td>\n",
       "      <td>1</td>\n",
       "      <td>1</td>\n",
       "    </tr>\n",
       "    <tr>\n",
       "      <th>11</th>\n",
       "      <td>34</td>\n",
       "      <td>61</td>\n",
       "      <td>10</td>\n",
       "      <td>1</td>\n",
       "    </tr>\n",
       "    <tr>\n",
       "      <th>12</th>\n",
       "      <td>34</td>\n",
       "      <td>67</td>\n",
       "      <td>7</td>\n",
       "      <td>1</td>\n",
       "    </tr>\n",
       "    <tr>\n",
       "      <th>13</th>\n",
       "      <td>34</td>\n",
       "      <td>60</td>\n",
       "      <td>0</td>\n",
       "      <td>1</td>\n",
       "    </tr>\n",
       "    <tr>\n",
       "      <th>14</th>\n",
       "      <td>35</td>\n",
       "      <td>64</td>\n",
       "      <td>13</td>\n",
       "      <td>1</td>\n",
       "    </tr>\n",
       "    <tr>\n",
       "      <th>15</th>\n",
       "      <td>35</td>\n",
       "      <td>63</td>\n",
       "      <td>0</td>\n",
       "      <td>1</td>\n",
       "    </tr>\n",
       "    <tr>\n",
       "      <th>16</th>\n",
       "      <td>36</td>\n",
       "      <td>60</td>\n",
       "      <td>1</td>\n",
       "      <td>1</td>\n",
       "    </tr>\n",
       "    <tr>\n",
       "      <th>17</th>\n",
       "      <td>36</td>\n",
       "      <td>69</td>\n",
       "      <td>0</td>\n",
       "      <td>1</td>\n",
       "    </tr>\n",
       "    <tr>\n",
       "      <th>18</th>\n",
       "      <td>37</td>\n",
       "      <td>60</td>\n",
       "      <td>0</td>\n",
       "      <td>1</td>\n",
       "    </tr>\n",
       "    <tr>\n",
       "      <th>19</th>\n",
       "      <td>37</td>\n",
       "      <td>63</td>\n",
       "      <td>0</td>\n",
       "      <td>1</td>\n",
       "    </tr>\n",
       "    <tr>\n",
       "      <th>20</th>\n",
       "      <td>37</td>\n",
       "      <td>58</td>\n",
       "      <td>0</td>\n",
       "      <td>1</td>\n",
       "    </tr>\n",
       "    <tr>\n",
       "      <th>21</th>\n",
       "      <td>37</td>\n",
       "      <td>59</td>\n",
       "      <td>6</td>\n",
       "      <td>1</td>\n",
       "    </tr>\n",
       "    <tr>\n",
       "      <th>22</th>\n",
       "      <td>37</td>\n",
       "      <td>60</td>\n",
       "      <td>15</td>\n",
       "      <td>1</td>\n",
       "    </tr>\n",
       "    <tr>\n",
       "      <th>23</th>\n",
       "      <td>37</td>\n",
       "      <td>63</td>\n",
       "      <td>0</td>\n",
       "      <td>1</td>\n",
       "    </tr>\n",
       "    <tr>\n",
       "      <th>24</th>\n",
       "      <td>38</td>\n",
       "      <td>69</td>\n",
       "      <td>21</td>\n",
       "      <td>2</td>\n",
       "    </tr>\n",
       "    <tr>\n",
       "      <th>25</th>\n",
       "      <td>38</td>\n",
       "      <td>59</td>\n",
       "      <td>2</td>\n",
       "      <td>1</td>\n",
       "    </tr>\n",
       "    <tr>\n",
       "      <th>26</th>\n",
       "      <td>38</td>\n",
       "      <td>60</td>\n",
       "      <td>0</td>\n",
       "      <td>1</td>\n",
       "    </tr>\n",
       "    <tr>\n",
       "      <th>27</th>\n",
       "      <td>38</td>\n",
       "      <td>60</td>\n",
       "      <td>0</td>\n",
       "      <td>1</td>\n",
       "    </tr>\n",
       "    <tr>\n",
       "      <th>28</th>\n",
       "      <td>38</td>\n",
       "      <td>62</td>\n",
       "      <td>3</td>\n",
       "      <td>1</td>\n",
       "    </tr>\n",
       "    <tr>\n",
       "      <th>29</th>\n",
       "      <td>38</td>\n",
       "      <td>64</td>\n",
       "      <td>1</td>\n",
       "      <td>1</td>\n",
       "    </tr>\n",
       "    <tr>\n",
       "      <th>...</th>\n",
       "      <td>...</td>\n",
       "      <td>...</td>\n",
       "      <td>...</td>\n",
       "      <td>...</td>\n",
       "    </tr>\n",
       "    <tr>\n",
       "      <th>276</th>\n",
       "      <td>67</td>\n",
       "      <td>66</td>\n",
       "      <td>0</td>\n",
       "      <td>1</td>\n",
       "    </tr>\n",
       "    <tr>\n",
       "      <th>277</th>\n",
       "      <td>67</td>\n",
       "      <td>61</td>\n",
       "      <td>0</td>\n",
       "      <td>1</td>\n",
       "    </tr>\n",
       "    <tr>\n",
       "      <th>278</th>\n",
       "      <td>67</td>\n",
       "      <td>65</td>\n",
       "      <td>0</td>\n",
       "      <td>1</td>\n",
       "    </tr>\n",
       "    <tr>\n",
       "      <th>279</th>\n",
       "      <td>68</td>\n",
       "      <td>67</td>\n",
       "      <td>0</td>\n",
       "      <td>1</td>\n",
       "    </tr>\n",
       "    <tr>\n",
       "      <th>280</th>\n",
       "      <td>68</td>\n",
       "      <td>68</td>\n",
       "      <td>0</td>\n",
       "      <td>1</td>\n",
       "    </tr>\n",
       "    <tr>\n",
       "      <th>281</th>\n",
       "      <td>69</td>\n",
       "      <td>67</td>\n",
       "      <td>8</td>\n",
       "      <td>2</td>\n",
       "    </tr>\n",
       "    <tr>\n",
       "      <th>282</th>\n",
       "      <td>69</td>\n",
       "      <td>60</td>\n",
       "      <td>0</td>\n",
       "      <td>1</td>\n",
       "    </tr>\n",
       "    <tr>\n",
       "      <th>283</th>\n",
       "      <td>69</td>\n",
       "      <td>65</td>\n",
       "      <td>0</td>\n",
       "      <td>1</td>\n",
       "    </tr>\n",
       "    <tr>\n",
       "      <th>284</th>\n",
       "      <td>69</td>\n",
       "      <td>66</td>\n",
       "      <td>0</td>\n",
       "      <td>1</td>\n",
       "    </tr>\n",
       "    <tr>\n",
       "      <th>285</th>\n",
       "      <td>70</td>\n",
       "      <td>58</td>\n",
       "      <td>0</td>\n",
       "      <td>2</td>\n",
       "    </tr>\n",
       "    <tr>\n",
       "      <th>286</th>\n",
       "      <td>70</td>\n",
       "      <td>58</td>\n",
       "      <td>4</td>\n",
       "      <td>2</td>\n",
       "    </tr>\n",
       "    <tr>\n",
       "      <th>287</th>\n",
       "      <td>70</td>\n",
       "      <td>66</td>\n",
       "      <td>14</td>\n",
       "      <td>1</td>\n",
       "    </tr>\n",
       "    <tr>\n",
       "      <th>288</th>\n",
       "      <td>70</td>\n",
       "      <td>67</td>\n",
       "      <td>0</td>\n",
       "      <td>1</td>\n",
       "    </tr>\n",
       "    <tr>\n",
       "      <th>289</th>\n",
       "      <td>70</td>\n",
       "      <td>68</td>\n",
       "      <td>0</td>\n",
       "      <td>1</td>\n",
       "    </tr>\n",
       "    <tr>\n",
       "      <th>290</th>\n",
       "      <td>70</td>\n",
       "      <td>59</td>\n",
       "      <td>8</td>\n",
       "      <td>1</td>\n",
       "    </tr>\n",
       "    <tr>\n",
       "      <th>291</th>\n",
       "      <td>70</td>\n",
       "      <td>63</td>\n",
       "      <td>0</td>\n",
       "      <td>1</td>\n",
       "    </tr>\n",
       "    <tr>\n",
       "      <th>292</th>\n",
       "      <td>71</td>\n",
       "      <td>68</td>\n",
       "      <td>2</td>\n",
       "      <td>1</td>\n",
       "    </tr>\n",
       "    <tr>\n",
       "      <th>293</th>\n",
       "      <td>72</td>\n",
       "      <td>63</td>\n",
       "      <td>0</td>\n",
       "      <td>2</td>\n",
       "    </tr>\n",
       "    <tr>\n",
       "      <th>294</th>\n",
       "      <td>72</td>\n",
       "      <td>58</td>\n",
       "      <td>0</td>\n",
       "      <td>1</td>\n",
       "    </tr>\n",
       "    <tr>\n",
       "      <th>295</th>\n",
       "      <td>72</td>\n",
       "      <td>64</td>\n",
       "      <td>0</td>\n",
       "      <td>1</td>\n",
       "    </tr>\n",
       "    <tr>\n",
       "      <th>296</th>\n",
       "      <td>72</td>\n",
       "      <td>67</td>\n",
       "      <td>3</td>\n",
       "      <td>1</td>\n",
       "    </tr>\n",
       "    <tr>\n",
       "      <th>297</th>\n",
       "      <td>73</td>\n",
       "      <td>62</td>\n",
       "      <td>0</td>\n",
       "      <td>1</td>\n",
       "    </tr>\n",
       "    <tr>\n",
       "      <th>298</th>\n",
       "      <td>73</td>\n",
       "      <td>68</td>\n",
       "      <td>0</td>\n",
       "      <td>1</td>\n",
       "    </tr>\n",
       "    <tr>\n",
       "      <th>299</th>\n",
       "      <td>74</td>\n",
       "      <td>65</td>\n",
       "      <td>3</td>\n",
       "      <td>2</td>\n",
       "    </tr>\n",
       "    <tr>\n",
       "      <th>300</th>\n",
       "      <td>74</td>\n",
       "      <td>63</td>\n",
       "      <td>0</td>\n",
       "      <td>1</td>\n",
       "    </tr>\n",
       "    <tr>\n",
       "      <th>301</th>\n",
       "      <td>75</td>\n",
       "      <td>62</td>\n",
       "      <td>1</td>\n",
       "      <td>1</td>\n",
       "    </tr>\n",
       "    <tr>\n",
       "      <th>302</th>\n",
       "      <td>76</td>\n",
       "      <td>67</td>\n",
       "      <td>0</td>\n",
       "      <td>1</td>\n",
       "    </tr>\n",
       "    <tr>\n",
       "      <th>303</th>\n",
       "      <td>77</td>\n",
       "      <td>65</td>\n",
       "      <td>3</td>\n",
       "      <td>1</td>\n",
       "    </tr>\n",
       "    <tr>\n",
       "      <th>304</th>\n",
       "      <td>78</td>\n",
       "      <td>65</td>\n",
       "      <td>1</td>\n",
       "      <td>2</td>\n",
       "    </tr>\n",
       "    <tr>\n",
       "      <th>305</th>\n",
       "      <td>83</td>\n",
       "      <td>58</td>\n",
       "      <td>2</td>\n",
       "      <td>2</td>\n",
       "    </tr>\n",
       "  </tbody>\n",
       "</table>\n",
       "<p>306 rows × 4 columns</p>\n",
       "</div>"
      ],
      "text/plain": [
       "     age  year  nodes  status\n",
       "0     30    64      1       1\n",
       "1     30    62      3       1\n",
       "2     30    65      0       1\n",
       "3     31    59      2       1\n",
       "4     31    65      4       1\n",
       "5     33    58     10       1\n",
       "6     33    60      0       1\n",
       "7     34    59      0       2\n",
       "8     34    66      9       2\n",
       "9     34    58     30       1\n",
       "10    34    60      1       1\n",
       "11    34    61     10       1\n",
       "12    34    67      7       1\n",
       "13    34    60      0       1\n",
       "14    35    64     13       1\n",
       "15    35    63      0       1\n",
       "16    36    60      1       1\n",
       "17    36    69      0       1\n",
       "18    37    60      0       1\n",
       "19    37    63      0       1\n",
       "20    37    58      0       1\n",
       "21    37    59      6       1\n",
       "22    37    60     15       1\n",
       "23    37    63      0       1\n",
       "24    38    69     21       2\n",
       "25    38    59      2       1\n",
       "26    38    60      0       1\n",
       "27    38    60      0       1\n",
       "28    38    62      3       1\n",
       "29    38    64      1       1\n",
       "..   ...   ...    ...     ...\n",
       "276   67    66      0       1\n",
       "277   67    61      0       1\n",
       "278   67    65      0       1\n",
       "279   68    67      0       1\n",
       "280   68    68      0       1\n",
       "281   69    67      8       2\n",
       "282   69    60      0       1\n",
       "283   69    65      0       1\n",
       "284   69    66      0       1\n",
       "285   70    58      0       2\n",
       "286   70    58      4       2\n",
       "287   70    66     14       1\n",
       "288   70    67      0       1\n",
       "289   70    68      0       1\n",
       "290   70    59      8       1\n",
       "291   70    63      0       1\n",
       "292   71    68      2       1\n",
       "293   72    63      0       2\n",
       "294   72    58      0       1\n",
       "295   72    64      0       1\n",
       "296   72    67      3       1\n",
       "297   73    62      0       1\n",
       "298   73    68      0       1\n",
       "299   74    65      3       2\n",
       "300   74    63      0       1\n",
       "301   75    62      1       1\n",
       "302   76    67      0       1\n",
       "303   77    65      3       1\n",
       "304   78    65      1       2\n",
       "305   83    58      2       2\n",
       "\n",
       "[306 rows x 4 columns]"
      ]
     },
     "execution_count": 4,
     "metadata": {},
     "output_type": "execute_result"
    }
   ],
   "source": [
    "#Viewing the data\n",
    "data1"
   ]
  },
  {
   "cell_type": "code",
   "execution_count": 5,
   "metadata": {},
   "outputs": [
    {
     "data": {
      "text/plain": [
       "(306, 4)"
      ]
     },
     "execution_count": 5,
     "metadata": {},
     "output_type": "execute_result"
    }
   ],
   "source": [
    "#Understanding the rows and columns making up the data\n",
    "data1.shape"
   ]
  },
  {
   "cell_type": "code",
   "execution_count": 6,
   "metadata": {},
   "outputs": [
    {
     "data": {
      "text/plain": [
       "age       0\n",
       "year      0\n",
       "nodes     0\n",
       "status    0\n",
       "dtype: int64"
      ]
     },
     "execution_count": 6,
     "metadata": {},
     "output_type": "execute_result"
    }
   ],
   "source": [
    "#Check for missing values\n",
    "data1.isnull().values.any()\n",
    "data1.isnull().sum()"
   ]
  },
  {
   "cell_type": "code",
   "execution_count": 7,
   "metadata": {},
   "outputs": [
    {
     "data": {
      "text/plain": [
       "age       int64\n",
       "year      int64\n",
       "nodes     int64\n",
       "status    int64\n",
       "dtype: object"
      ]
     },
     "execution_count": 7,
     "metadata": {},
     "output_type": "execute_result"
    }
   ],
   "source": [
    "#Data types of the features\n",
    "data1.dtypes"
   ]
  },
  {
   "cell_type": "code",
   "execution_count": 8,
   "metadata": {},
   "outputs": [
    {
     "data": {
      "text/plain": [
       "52    14\n",
       "54    13\n",
       "50    12\n",
       "47    11\n",
       "53    11\n",
       "43    11\n",
       "57    11\n",
       "55    10\n",
       "65    10\n",
       "49    10\n",
       "38    10\n",
       "41    10\n",
       "61     9\n",
       "45     9\n",
       "42     9\n",
       "63     8\n",
       "59     8\n",
       "62     7\n",
       "44     7\n",
       "58     7\n",
       "56     7\n",
       "46     7\n",
       "70     7\n",
       "34     7\n",
       "48     7\n",
       "37     6\n",
       "67     6\n",
       "60     6\n",
       "51     6\n",
       "39     6\n",
       "66     5\n",
       "64     5\n",
       "72     4\n",
       "69     4\n",
       "40     3\n",
       "30     3\n",
       "68     2\n",
       "73     2\n",
       "74     2\n",
       "36     2\n",
       "35     2\n",
       "33     2\n",
       "31     2\n",
       "78     1\n",
       "71     1\n",
       "75     1\n",
       "76     1\n",
       "77     1\n",
       "83     1\n",
       "Name: age, dtype: int64"
      ]
     },
     "execution_count": 8,
     "metadata": {},
     "output_type": "execute_result"
    }
   ],
   "source": [
    "# Age attribute\n",
    "data1['age'].value_counts()"
   ]
  },
  {
   "cell_type": "code",
   "execution_count": 9,
   "metadata": {},
   "outputs": [],
   "source": [
    "#There does not seem to be any impossible values in this attribute"
   ]
  },
  {
   "cell_type": "code",
   "execution_count": 10,
   "metadata": {},
   "outputs": [
    {
     "data": {
      "image/png": "[encoded data removed]",
      "text/plain": [
       "<matplotlib.figure.Figure at 0x10bf5b5d0>"
      ]
     },
     "metadata": {},
     "output_type": "display_data"
    }
   ],
   "source": [
    "data1['age'].plot(kind='hist',bins=20)\n",
    "plt.title('Age info')\n",
    "plt.xlabel('Age')\n",
    "plt.show()"
   ]
  },
  {
   "cell_type": "code",
   "execution_count": 11,
   "metadata": {},
   "outputs": [
    {
     "data": {
      "image/png": "[encoded data removed]",
      "text/plain": [
       "<matplotlib.figure.Figure at 0x1074caa10>"
      ]
     },
     "metadata": {},
     "output_type": "display_data"
    }
   ],
   "source": [
    "data1['age'].plot(kind='box')\n",
    "plt.title('Age info Box-plot')\n",
    "plt.ylabel('Age')\n",
    "plt.show()"
   ]
  },
  {
   "cell_type": "code",
   "execution_count": 12,
   "metadata": {},
   "outputs": [],
   "source": [
    "#The distribution looks fairly symmetric"
   ]
  },
  {
   "cell_type": "code",
   "execution_count": 13,
   "metadata": {},
   "outputs": [
    {
     "data": {
      "text/plain": [
       "58    36\n",
       "64    31\n",
       "63    30\n",
       "66    28\n",
       "65    28\n",
       "60    28\n",
       "59    27\n",
       "61    26\n",
       "67    25\n",
       "62    23\n",
       "68    13\n",
       "69    11\n",
       "Name: year, dtype: int64"
      ]
     },
     "execution_count": 13,
     "metadata": {},
     "output_type": "execute_result"
    }
   ],
   "source": [
    "#Year attribute\n",
    "data1['year'].value_counts()"
   ]
  },
  {
   "cell_type": "code",
   "execution_count": 14,
   "metadata": {},
   "outputs": [],
   "source": [
    "#This study contains observations between the year 1958 and 1970. "
   ]
  },
  {
   "cell_type": "code",
   "execution_count": 15,
   "metadata": {},
   "outputs": [
    {
     "data": {
      "image/png": "[encoded data removed]",
      "text/plain": [
       "<matplotlib.figure.Figure at 0x10e1e6750>"
      ]
     },
     "metadata": {},
     "output_type": "display_data"
    }
   ],
   "source": [
    "data1['year'].value_counts().plot(kind='bar')\n",
    "plt.title('Observations per year')\n",
    "plt.xlabel('Year')\n",
    "plt.ylabel('Count')\n",
    "plt.show()"
   ]
  },
  {
   "cell_type": "code",
   "execution_count": 16,
   "metadata": {},
   "outputs": [
    {
     "data": {
      "text/plain": [
       "0     136\n",
       "1      41\n",
       "2      20\n",
       "3      20\n",
       "4      13\n",
       "6       7\n",
       "7       7\n",
       "8       7\n",
       "5       6\n",
       "9       6\n",
       "13      5\n",
       "14      4\n",
       "11      4\n",
       "10      3\n",
       "15      3\n",
       "19      3\n",
       "22      3\n",
       "23      3\n",
       "12      2\n",
       "20      2\n",
       "46      1\n",
       "16      1\n",
       "17      1\n",
       "18      1\n",
       "21      1\n",
       "24      1\n",
       "25      1\n",
       "28      1\n",
       "30      1\n",
       "35      1\n",
       "52      1\n",
       "Name: nodes, dtype: int64"
      ]
     },
     "execution_count": 16,
     "metadata": {},
     "output_type": "execute_result"
    }
   ],
   "source": [
    "#Nodes attribute\n",
    "data1['nodes'].value_counts()"
   ]
  },
  {
   "cell_type": "code",
   "execution_count": 17,
   "metadata": {},
   "outputs": [],
   "source": [
    "# We do not observe any impossible values.\n",
    "# It seems that in general it is not common to detect a large number of positive axillary nodes."
   ]
  },
  {
   "cell_type": "code",
   "execution_count": 18,
   "metadata": {},
   "outputs": [
    {
     "data": {
      "image/png": "[encoded data removed]",
      "text/plain": [
       "<matplotlib.figure.Figure at 0x10e1fc2d0>"
      ]
     },
     "metadata": {},
     "output_type": "display_data"
    }
   ],
   "source": [
    "data1['nodes'].plot(kind='hist',bins=10)\n",
    "plt.title('Number of Positive Axillary nodes detected')\n",
    "plt.xlabel('No. of nodes')\n",
    "plt.show()"
   ]
  },
  {
   "cell_type": "code",
   "execution_count": 19,
   "metadata": {},
   "outputs": [],
   "source": [
    "# This further confirms our earlier observations and we see a left skew in the data"
   ]
  },
  {
   "cell_type": "code",
   "execution_count": 20,
   "metadata": {},
   "outputs": [
    {
     "data": {
      "text/plain": [
       "1    225\n",
       "2     81\n",
       "Name: status, dtype: int64"
      ]
     },
     "execution_count": 20,
     "metadata": {},
     "output_type": "execute_result"
    }
   ],
   "source": [
    "#Status - Target attribute\n",
    "data1['status'].value_counts()"
   ]
  },
  {
   "cell_type": "code",
   "execution_count": 21,
   "metadata": {},
   "outputs": [
    {
     "data": {
      "image/png": "[encoded data removed]",
      "text/plain": [
       "<matplotlib.figure.Figure at 0x10e1e6d10>"
      ]
     },
     "metadata": {},
     "output_type": "display_data"
    }
   ],
   "source": [
    "data1['status'].value_counts().plot(kind='bar')\n",
    "plt.title('Survival status of patient')\n",
    "plt.xlabel('Survives longer than 5 years vs Does not survive longer than 5 years')\n",
    "plt.ylabel('Count')\n",
    "plt.show()"
   ]
  },
  {
   "cell_type": "code",
   "execution_count": 22,
   "metadata": {},
   "outputs": [
    {
     "name": "stdout",
     "output_type": "stream",
     "text": [
      "     age  year  nodes  status age_group\n",
      "0     30    64      1       1   30 - 35\n",
      "1     30    62      3       1   30 - 35\n",
      "2     30    65      0       1   30 - 35\n",
      "3     31    59      2       1   30 - 35\n",
      "4     31    65      4       1   30 - 35\n",
      "5     33    58     10       1   30 - 35\n",
      "6     33    60      0       1   30 - 35\n",
      "7     34    59      0       2   30 - 35\n",
      "8     34    66      9       2   30 - 35\n",
      "9     34    58     30       1   30 - 35\n",
      "10    34    60      1       1   30 - 35\n",
      "11    34    61     10       1   30 - 35\n",
      "12    34    67      7       1   30 - 35\n",
      "13    34    60      0       1   30 - 35\n",
      "14    35    64     13       1   35 - 40\n",
      "15    35    63      0       1   35 - 40\n",
      "16    36    60      1       1   35 - 40\n",
      "17    36    69      0       1   35 - 40\n",
      "18    37    60      0       1   35 - 40\n",
      "19    37    63      0       1   35 - 40\n",
      "20    37    58      0       1   35 - 40\n",
      "21    37    59      6       1   35 - 40\n",
      "22    37    60     15       1   35 - 40\n",
      "23    37    63      0       1   35 - 40\n",
      "24    38    69     21       2   35 - 40\n",
      "25    38    59      2       1   35 - 40\n",
      "26    38    60      0       1   35 - 40\n",
      "27    38    60      0       1   35 - 40\n",
      "28    38    62      3       1   35 - 40\n",
      "29    38    64      1       1   35 - 40\n",
      "..   ...   ...    ...     ...       ...\n",
      "276   67    66      0       1   65 - 70\n",
      "277   67    61      0       1   65 - 70\n",
      "278   67    65      0       1   65 - 70\n",
      "279   68    67      0       1   65 - 70\n",
      "280   68    68      0       1   65 - 70\n",
      "281   69    67      8       2   65 - 70\n",
      "282   69    60      0       1   65 - 70\n",
      "283   69    65      0       1   65 - 70\n",
      "284   69    66      0       1   65 - 70\n",
      "285   70    58      0       2   70 - 75\n",
      "286   70    58      4       2   70 - 75\n",
      "287   70    66     14       1   70 - 75\n",
      "288   70    67      0       1   70 - 75\n",
      "289   70    68      0       1   70 - 75\n",
      "290   70    59      8       1   70 - 75\n",
      "291   70    63      0       1   70 - 75\n",
      "292   71    68      2       1   70 - 75\n",
      "293   72    63      0       2   70 - 75\n",
      "294   72    58      0       1   70 - 75\n",
      "295   72    64      0       1   70 - 75\n",
      "296   72    67      3       1   70 - 75\n",
      "297   73    62      0       1   70 - 75\n",
      "298   73    68      0       1   70 - 75\n",
      "299   74    65      3       2   70 - 75\n",
      "300   74    63      0       1   70 - 75\n",
      "301   75    62      1       1   75 - 80\n",
      "302   76    67      0       1   75 - 80\n",
      "303   77    65      3       1   75 - 80\n",
      "304   78    65      1       2   75 - 80\n",
      "305   83    58      2       2   80 - 85\n",
      "\n",
      "[306 rows x 5 columns]\n"
     ]
    }
   ],
   "source": [
    "def get_bounds(val,range_years,upper=True):\n",
    "    # get remainder\n",
    "    rem = val % range_years\n",
    "    bounds = 0\n",
    "    if rem != 0:\n",
    "        bounds = range_years - rem\n",
    "    \n",
    "    return val + bounds\n",
    "\n",
    "def get_ranges(data,range_years):\n",
    "    # Get the lower and upper bounds of the data\n",
    "    lower, upper = min(data), max(data)\n",
    "    \n",
    "    # Split the data by the years\n",
    "    lower_bounds = get_bounds(lower,range_years,upper=False)\n",
    "    upper_bounds = get_bounds(upper,range_years)\n",
    "    \n",
    "    # Create the ranges dict\n",
    "    ranges = []\n",
    "    for i in range((lower_bounds + range_years),(upper_bounds + range_years),range_years):\n",
    "        d = {\n",
    "            'upper_age': i,\n",
    "            'lower_age': i - range_years,\n",
    "            'count': 0\n",
    "        }\n",
    "        ranges.append(d)\n",
    "        \n",
    "    return ranges\n",
    "\n",
    "def age_count(data,range_years=5):\n",
    "    # Get the ranges array\n",
    "    l = get_ranges(data['age'],range_years)\n",
    "    # age group array\n",
    "    group_array = []\n",
    "    # Categrorize the ages based on the age groups\n",
    "    for a in l:\n",
    "        for d in data['age']:\n",
    "            if d >= a['lower_age'] and d < a['upper_age']:\n",
    "                # Increment the count of the age group by 1\n",
    "                a['count'] += 1\n",
    "                # Add the age to the age group array\n",
    "                group_array.append('{} - {}'.format(a['lower_age'],a['upper_age']))\n",
    "    # Add the age group array as column to the dataset\n",
    "    data['age_group'] = group_array\n",
    "    return data\n",
    "        \n",
    "print(age_count(data1,range_years=5))\n",
    "        "
   ]
  },
  {
   "cell_type": "code",
   "execution_count": 23,
   "metadata": {},
   "outputs": [
    {
     "data": {
      "text/plain": [
       "30 - 35    14\n",
       "35 - 40    26\n",
       "40 - 45    40\n",
       "45 - 50    44\n",
       "50 - 55    56\n",
       "55 - 60    43\n",
       "60 - 65    35\n",
       "65 - 70    27\n",
       "70 - 75    16\n",
       "75 - 80     4\n",
       "80 - 85     1\n",
       "Name: age_group, dtype: int64"
      ]
     },
     "execution_count": 23,
     "metadata": {},
     "output_type": "execute_result"
    }
   ],
   "source": [
    " data1['age_group'].value_counts().sort_index()"
   ]
  },
  {
   "cell_type": "markdown",
   "metadata": {},
   "source": [
    "## Task 2: Data Exploration"
   ]
  },
  {
   "cell_type": "code",
   "execution_count": 24,
   "metadata": {},
   "outputs": [],
   "source": [
    "#Do number of nodes vary with age?"
   ]
  },
  {
   "cell_type": "code",
   "execution_count": 25,
   "metadata": {},
   "outputs": [
    {
     "data": {
      "image/png": "[encoded data removed]",
      "text/plain": [
       "<matplotlib.figure.Figure at 0x10e4e1050>"
      ]
     },
     "metadata": {},
     "output_type": "display_data"
    }
   ],
   "source": [
    "data1.boxplot(column='nodes',by='age_group',figsize=(14,6),grid=False)\n",
    "plt.ylabel('Nodes per year')\n",
    "plt.show()"
   ]
  },
  {
   "cell_type": "code",
   "execution_count": 26,
   "metadata": {},
   "outputs": [],
   "source": [
    "# Does age affect survival status?"
   ]
  },
  {
   "cell_type": "code",
   "execution_count": 27,
   "metadata": {
    "scrolled": false
   },
   "outputs": [
    {
     "data": {
      "text/plain": [
       "status  age_group\n",
       "1       30 - 35      12\n",
       "        35 - 40      24\n",
       "        40 - 45      28\n",
       "        45 - 50      29\n",
       "        50 - 55      38\n",
       "        55 - 60      35\n",
       "        60 - 65      26\n",
       "        65 - 70      18\n",
       "        70 - 75      12\n",
       "        75 - 80       3\n",
       "2       30 - 35       2\n",
       "        35 - 40       2\n",
       "        40 - 45      12\n",
       "        45 - 50      15\n",
       "        50 - 55      18\n",
       "        55 - 60       8\n",
       "        60 - 65       9\n",
       "        65 - 70       9\n",
       "        70 - 75       4\n",
       "        75 - 80       1\n",
       "        80 - 85       1\n",
       "dtype: int64"
      ]
     },
     "execution_count": 27,
     "metadata": {},
     "output_type": "execute_result"
    }
   ],
   "source": [
    "bar_data = data1\n",
    "\n",
    "grouped = bar_data.groupby(['status','age_group'])\n",
    "grouped.size()\n"
   ]
  },
  {
   "cell_type": "code",
   "execution_count": 28,
   "metadata": {},
   "outputs": [
    {
     "data": {
      "text/html": [
       "<div>\n",
       "<style scoped>\n",
       "    .dataframe tbody tr th:only-of-type {\n",
       "        vertical-align: middle;\n",
       "    }\n",
       "\n",
       "    .dataframe tbody tr th {\n",
       "        vertical-align: top;\n",
       "    }\n",
       "\n",
       "    .dataframe thead th {\n",
       "        text-align: right;\n",
       "    }\n",
       "</style>\n",
       "<table border=\"1\" class=\"dataframe\">\n",
       "  <thead>\n",
       "    <tr style=\"text-align: right;\">\n",
       "      <th>age_group</th>\n",
       "      <th>30 - 35</th>\n",
       "      <th>35 - 40</th>\n",
       "      <th>40 - 45</th>\n",
       "      <th>45 - 50</th>\n",
       "      <th>50 - 55</th>\n",
       "      <th>55 - 60</th>\n",
       "      <th>60 - 65</th>\n",
       "      <th>65 - 70</th>\n",
       "      <th>70 - 75</th>\n",
       "      <th>75 - 80</th>\n",
       "      <th>80 - 85</th>\n",
       "    </tr>\n",
       "    <tr>\n",
       "      <th>status</th>\n",
       "      <th></th>\n",
       "      <th></th>\n",
       "      <th></th>\n",
       "      <th></th>\n",
       "      <th></th>\n",
       "      <th></th>\n",
       "      <th></th>\n",
       "      <th></th>\n",
       "      <th></th>\n",
       "      <th></th>\n",
       "      <th></th>\n",
       "    </tr>\n",
       "  </thead>\n",
       "  <tbody>\n",
       "    <tr>\n",
       "      <th>1</th>\n",
       "      <td>12</td>\n",
       "      <td>24</td>\n",
       "      <td>28</td>\n",
       "      <td>29</td>\n",
       "      <td>38</td>\n",
       "      <td>35</td>\n",
       "      <td>26</td>\n",
       "      <td>18</td>\n",
       "      <td>12</td>\n",
       "      <td>3</td>\n",
       "      <td>0</td>\n",
       "    </tr>\n",
       "    <tr>\n",
       "      <th>2</th>\n",
       "      <td>2</td>\n",
       "      <td>2</td>\n",
       "      <td>12</td>\n",
       "      <td>15</td>\n",
       "      <td>18</td>\n",
       "      <td>8</td>\n",
       "      <td>9</td>\n",
       "      <td>9</td>\n",
       "      <td>4</td>\n",
       "      <td>1</td>\n",
       "      <td>1</td>\n",
       "    </tr>\n",
       "  </tbody>\n",
       "</table>\n",
       "</div>"
      ],
      "text/plain": [
       "age_group  30 - 35  35 - 40  40 - 45  45 - 50  50 - 55  55 - 60  60 - 65  \\\n",
       "status                                                                     \n",
       "1               12       24       28       29       38       35       26   \n",
       "2                2        2       12       15       18        8        9   \n",
       "\n",
       "age_group  65 - 70  70 - 75  75 - 80  80 - 85  \n",
       "status                                         \n",
       "1               18       12        3        0  \n",
       "2                9        4        1        1  "
      ]
     },
     "execution_count": 28,
     "metadata": {},
     "output_type": "execute_result"
    }
   ],
   "source": [
    "status_table =  pd.crosstab(index=bar_data['status'],columns=bar_data['age_group'])\n",
    "status_table"
   ]
  },
  {
   "cell_type": "code",
   "execution_count": 29,
   "metadata": {},
   "outputs": [
    {
     "data": {
      "text/plain": [
       "Text(0.5,1,u'Survival status of patient by age-group')"
      ]
     },
     "execution_count": 29,
     "metadata": {},
     "output_type": "execute_result"
    },
    {
     "data": {
      "image/png": "[encoded data removed]",
      "text/plain": [
       "<matplotlib.figure.Figure at 0x10e4fb690>"
      ]
     },
     "metadata": {},
     "output_type": "display_data"
    }
   ],
   "source": [
    "status_table.plot(kind='bar',figsize=(14,6))\n",
    "plt.title('Survival status of patient by age-group')"
   ]
  },
  {
   "cell_type": "code",
   "execution_count": 30,
   "metadata": {},
   "outputs": [
    {
     "data": {
      "text/plain": [
       "Text(0.5,1,u'Survival status by no. of nodes detected')"
      ]
     },
     "execution_count": 30,
     "metadata": {},
     "output_type": "execute_result"
    },
    {
     "data": {
      "image/png": "[encoded data removed]",
      "text/plain": [
       "<matplotlib.figure.Figure at 0x10bfa2450>"
      ]
     },
     "metadata": {},
     "output_type": "display_data"
    }
   ],
   "source": [
    "ax = sns.violinplot(x=\"status\", y=\"nodes\",data=data1)\n",
    "\n",
    "# Calculate number of obs per group & median to position labels\n",
    "medians = data1.groupby(['status'])['nodes'].median().values\n",
    "nobs = data1['status'].value_counts().values\n",
    "nobs = [str(x) for x in nobs.tolist()]\n",
    "nobs = [\"n: \" + i for i in nobs]\n",
    " \n",
    "    \n",
    " # Add it to the plot\n",
    "pos = range(len(nobs))\n",
    "for tick,label in zip(pos,ax.get_xticklabels()):\n",
    "   ax.text(pos[tick], medians[tick] + 0.03, nobs[tick], horizontalalignment='center', size='x-small', color='w', weight='semibold')\n",
    "\n",
    "plt.title('Survival status by no. of nodes detected')"
   ]
  },
  {
   "cell_type": "code",
   "execution_count": 31,
   "metadata": {},
   "outputs": [
    {
     "data": {
      "text/plain": [
       "Text(0.5,0.98,u'Survival status by no. of nodes detected and age of patient')"
      ]
     },
     "execution_count": 31,
     "metadata": {},
     "output_type": "execute_result"
    },
    {
     "data": {
      "image/png": "[encoded data removed]",
      "text/plain": [
       "<matplotlib.figure.Figure at 0x10e182cd0>"
      ]
     },
     "metadata": {},
     "output_type": "display_data"
    }
   ],
   "source": [
    "#import seaborn  as se\n",
    "\n",
    "sns.set_style(\"darkgrid\");\n",
    "sns.FacetGrid(data1,col=\"status\",hue='status',size=6,col_wrap=2,)\\\n",
    "    .map(plt.scatter,\"nodes\",\"age\")\\\n",
    "    .add_legend()\n",
    "\n",
    "#plt.show()\n",
    "#plt.title('YOUR TITLE HERE')\n",
    "plt.subplots_adjust(top=0.9)\n",
    "plt.suptitle('Survival status by no. of nodes detected and age of patient')\n"
   ]
  },
  {
   "cell_type": "markdown",
   "metadata": {},
   "source": [
    "## Task 3: Data Modelling"
   ]
  },
  {
   "cell_type": "markdown",
   "metadata": {},
   "source": [
    "### Model 1: k Nearest Neighbor"
   ]
  },
  {
   "cell_type": "code",
   "execution_count": 35,
   "metadata": {},
   "outputs": [],
   "source": [
    "# We shall use age, nodes and the year and use a backward elimination technique to \n",
    "#find the feature that gives the best score\n",
    "X = data1.iloc[:, [0,1,2]]\n",
    "y = data1.iloc[:, 3]\n",
    "\n"
   ]
  },
  {
   "cell_type": "code",
   "execution_count": 52,
   "metadata": {},
   "outputs": [],
   "source": [
    "# Fitting classifier\n",
    "#We start with arbitrary parameters\n",
    "from sklearn.neighbors import KNeighborsClassifier\n",
    "classifier = KNeighborsClassifier(n_neighbors=5,weights='distance',metric='minkowski',p=2)\n",
    "\n",
    "\n",
    "#When p=1 equal to Manhattan distance\n",
    "#When p= 2 equal to Euclidean distance\n",
    "#Even with p change, values remain the same with a distance metric"
   ]
  },
  {
   "cell_type": "code",
   "execution_count": 53,
   "metadata": {},
   "outputs": [],
   "source": [
    "#Validating the model"
   ]
  },
  {
   "cell_type": "code",
   "execution_count": 54,
   "metadata": {},
   "outputs": [],
   "source": [
    "# We shall use a k folds cross validation technique"
   ]
  },
  {
   "cell_type": "code",
   "execution_count": 55,
   "metadata": {},
   "outputs": [],
   "source": [
    "#Necessary imports\n",
    "from sklearn.model_selection import cross_val_score,cross_val_predict\n"
   ]
  },
  {
   "cell_type": "code",
   "execution_count": 56,
   "metadata": {},
   "outputs": [
    {
     "name": "stdout",
     "output_type": "stream",
     "text": [
      "Cross-validated scores: [0.71875    0.61290323 0.41935484 0.74193548 0.74193548 0.73333333\n",
      " 0.8        0.66666667 0.73333333 0.7       ]\n"
     ]
    }
   ],
   "source": [
    "# Perform 10 fold cross validation\n",
    "scores = cross_val_score(classifier, X,y, cv=10)\n",
    "print 'Cross-validated scores:', scores"
   ]
  },
  {
   "cell_type": "code",
   "execution_count": 57,
   "metadata": {
    "scrolled": true
   },
   "outputs": [
    {
     "name": "stdout",
     "output_type": "stream",
     "text": [
      "Accuracy: 0.69 (+/- 0.20)\n"
     ]
    }
   ],
   "source": [
    "# Print the mean score and variance\n",
    "print('Accuracy: %0.2f (+/- %0.2f)'% (scores.mean(), scores.std()*2))"
   ]
  },
  {
   "cell_type": "code",
   "execution_count": 43,
   "metadata": {},
   "outputs": [
    {
     "name": "stdout",
     "output_type": "stream",
     "text": [
      "             precision    recall  f1-score   support\n",
      "\n",
      "          1       0.78      0.80      0.79       225\n",
      "          2       0.40      0.36      0.38        81\n",
      "\n",
      "avg / total       0.68      0.69      0.68       306\n",
      "\n"
     ]
    }
   ],
   "source": [
    "# Confusion matrix with k=5, p=2\n",
    "from sklearn.metrics import classification_report, confusion_matrix\n",
    "predicted = cross_val_predict(classifier, X, y, cv=10)\n",
    "\n",
    "print classification_report(y,predicted)"
   ]
  },
  {
   "cell_type": "markdown",
   "metadata": {},
   "source": [
    "### Parameter Tuning"
   ]
  },
  {
   "cell_type": "markdown",
   "metadata": {},
   "source": [
    "### Optimum value for k "
   ]
  },
  {
   "cell_type": "code",
   "execution_count": null,
   "metadata": {},
   "outputs": [],
   "source": [
    "# We can find the optimal value of k for KNN"
   ]
  },
  {
   "cell_type": "code",
   "execution_count": 58,
   "metadata": {},
   "outputs": [
    {
     "name": "stdout",
     "output_type": "stream",
     "text": [
      "[0.631337365591398, 0.7000470430107527, 0.6607997311827957, 0.7192943548387097, 0.712627688172043, 0.7451008064516129, 0.7324126344086022, 0.7517674731182795, 0.7423051075268817, 0.7519825268817204, 0.7387567204301075, 0.7352083333333334, 0.7421975806451613, 0.7387567204301075, 0.7421975806451613, 0.751774193548387, 0.7552083333333334, 0.7485416666666668, 0.7518750000000001, 0.7552083333333334, 0.7552083333333334, 0.7517674731182795, 0.7518750000000001, 0.7486424731182796, 0.7616666666666667, 0.7646841397849462, 0.7583333333333334, 0.7678024193548387, 0.7645766129032259, 0.7646774193548387, 0.7645766129032259, 0.7645698924731182, 0.771135752688172, 0.7711290322580645, 0.7679032258064515, 0.7710215053763441, 0.7710215053763441, 0.7677956989247312, 0.7680040322580645, 0.7615456989247311, 0.7647782258064516, 0.761760752688172, 0.7584274193548387, 0.7615524193548386, 0.7582190860215053, 0.7614448924731183, 0.7647782258064517, 0.7614448924731183, 0.7647782258064517, 0.7581115591397849]\n"
     ]
    }
   ],
   "source": [
    "# range of k we want to try\n",
    "k_ranges = range(1, 51)\n",
    "# empty list to store scores\n",
    "k_scores = []\n",
    "\n",
    "# 1. we will loop through reasonable values of k\n",
    "for k in k_ranges:\n",
    "    # 2. run KNeighborsClassifier with k neighbours\n",
    "    knnClass = KNeighborsClassifier(n_neighbors=k)\n",
    "    # 3. obtain cross_val_score for KNeighborsClassifier with k neighbours\n",
    "    scores = cross_val_score(knnClass, X, y, cv=10, scoring='accuracy')\n",
    "    # 4. append mean of scores for k neighbors to k_scores list\n",
    "    k_scores.append(scores.mean())\n",
    "\n",
    "\n",
    "print(k_scores)"
   ]
  },
  {
   "cell_type": "code",
   "execution_count": 60,
   "metadata": {},
   "outputs": [
    {
     "name": "stdout",
     "output_type": "stream",
     "text": [
      "('Length of list', 50)\n",
      "('Max of list', 0.771135752688172)\n"
     ]
    }
   ],
   "source": [
    "print('Length of list', len(k_scores))\n",
    "print('Max of list', max(k_scores))"
   ]
  },
  {
   "cell_type": "code",
   "execution_count": 61,
   "metadata": {},
   "outputs": [
    {
     "data": {
      "text/plain": [
       "Text(0,0.5,u'Cross-validated accuracy')"
      ]
     },
     "execution_count": 61,
     "metadata": {},
     "output_type": "execute_result"
    },
    {
     "data": {
      "image/png": "[encoded data removed]",
      "text/plain": [
       "<matplotlib.figure.Figure at 0x1a169224d0>"
      ]
     },
     "metadata": {},
     "output_type": "display_data"
    }
   ],
   "source": [
    "# plot how accuracy changes as we vary k\n",
    "\n",
    "# plot the value of K for KNN (x-axis) versus the cross-validated accuracy (y-axis)\n",
    "# plt.plot(x_axis, y_axis)\n",
    "plt.figure(figsize=[13,8])\n",
    "plt.plot(k_ranges, k_scores)\n",
    "plt.title('Number of neighbors(value of K) VS Accuracy')\n",
    "plt.xlabel('Value of K for KNN')\n",
    "plt.ylabel('Cross-validated accuracy')"
   ]
  },
  {
   "cell_type": "raw",
   "metadata": {},
   "source": [
    "Value of k seems to be at about 32"
   ]
  },
  {
   "cell_type": "code",
   "execution_count": 62,
   "metadata": {},
   "outputs": [],
   "source": [
    "# Now use this k value in the classifier\n",
    "classifier_remod = KNeighborsClassifier(n_neighbors=32,weights='distance',metric='minkowski',p=2)"
   ]
  },
  {
   "cell_type": "code",
   "execution_count": 66,
   "metadata": {},
   "outputs": [
    {
     "name": "stdout",
     "output_type": "stream",
     "text": [
      "Cross-validated scores: [0.71875    0.77419355 0.67741935 0.80645161 0.70967742 0.76666667\n",
      " 0.8        0.8        0.73333333 0.73333333]\n"
     ]
    }
   ],
   "source": [
    "# Using remod\n",
    "scoresmod = cross_val_score(classifier_remod, X,y, cv=10)\n",
    "print 'Cross-validated scores:', scoresmod"
   ]
  },
  {
   "cell_type": "code",
   "execution_count": 67,
   "metadata": {},
   "outputs": [
    {
     "name": "stdout",
     "output_type": "stream",
     "text": [
      "Accuracy: 0.75 (+/- 0.08)\n"
     ]
    }
   ],
   "source": [
    "# Print the mean score and variance\n",
    "print('Accuracy: %0.2f (+/- %0.2f)'% (scoresmod.mean(), scoresmod.std()*2))"
   ]
  },
  {
   "cell_type": "code",
   "execution_count": 108,
   "metadata": {},
   "outputs": [
    {
     "name": "stdout",
     "output_type": "stream",
     "text": [
      "             precision    recall  f1-score   support\n",
      "\n",
      "          1       0.77      0.92      0.84       225\n",
      "          2       0.51      0.23      0.32        81\n",
      "\n",
      "avg / total       0.70      0.74      0.70       306\n",
      "\n"
     ]
    }
   ],
   "source": [
    "# Confusion matrix with k=32, p=2\n",
    "predicted_remod = cross_val_predict(classifier_remod, X, y, cv=10)\n",
    "\n",
    "print classification_report(y,predicted_remod)"
   ]
  },
  {
   "cell_type": "markdown",
   "metadata": {},
   "source": [
    "### Optimum value of p"
   ]
  },
  {
   "cell_type": "code",
   "execution_count": null,
   "metadata": {},
   "outputs": [],
   "source": [
    "# Now find best value of p"
   ]
  },
  {
   "cell_type": "code",
   "execution_count": null,
   "metadata": {},
   "outputs": [],
   "source": [
    "# We started with a p value of 2 which is the Euclidean distance\n",
    "# We shall now try with a p value of 1 which is the Manhattan or taxi distance"
   ]
  },
  {
   "cell_type": "code",
   "execution_count": 71,
   "metadata": {},
   "outputs": [],
   "source": [
    "classifier_remod2 = KNeighborsClassifier(n_neighbors=35,weights='distance',p=1)"
   ]
  },
  {
   "cell_type": "code",
   "execution_count": 72,
   "metadata": {},
   "outputs": [
    {
     "name": "stdout",
     "output_type": "stream",
     "text": [
      "Cross-validated scores: [0.71875    0.77419355 0.67741935 0.80645161 0.70967742 0.76666667\n",
      " 0.8        0.8        0.73333333 0.73333333]\n"
     ]
    }
   ],
   "source": [
    "# Using remod\n",
    "scoresmod2 = cross_val_score(classifier_remod2, X,y, cv=10)\n",
    "print 'Cross-validated scores:', scores"
   ]
  },
  {
   "cell_type": "code",
   "execution_count": 73,
   "metadata": {},
   "outputs": [
    {
     "name": "stdout",
     "output_type": "stream",
     "text": [
      "Accuracy: 0.73 (+/- 0.07)\n"
     ]
    }
   ],
   "source": [
    "# Print the mean score and variance\n",
    "print('Accuracy: %0.2f (+/- %0.2f)'% (scoresmod2.mean(), scoresmod2.std()*2))"
   ]
  },
  {
   "cell_type": "code",
   "execution_count": null,
   "metadata": {},
   "outputs": [],
   "source": [
    "# The Euclidean distance(p=2) seems to be a better measure"
   ]
  },
  {
   "cell_type": "code",
   "execution_count": 104,
   "metadata": {},
   "outputs": [
    {
     "name": "stdout",
     "output_type": "stream",
     "text": [
      "             precision    recall  f1-score   support\n",
      "\n",
      "          1       0.77      0.92      0.84       225\n",
      "          2       0.53      0.25      0.34        81\n",
      "\n",
      "avg / total       0.71      0.74      0.71       306\n",
      "\n"
     ]
    }
   ],
   "source": [
    "# Confusion matrix with p=1\n",
    "predicted_remod2 = cross_val_predict(classifier_remod2, X, y, cv=10)\n",
    "\n",
    "print classification_report(y,predicted_remod2)"
   ]
  },
  {
   "cell_type": "markdown",
   "metadata": {},
   "source": [
    "### Finding the feature with the highest accuracy score\n"
   ]
  },
  {
   "cell_type": "code",
   "execution_count": 76,
   "metadata": {},
   "outputs": [],
   "source": [
    "# We started with all three descriptive features-age, year and nodes\n",
    "# We will start with age and year and compare the scores\n",
    "X = data1.iloc[:, [0,1]]\n",
    "y = data1.iloc[:, 3]\n"
   ]
  },
  {
   "cell_type": "code",
   "execution_count": 77,
   "metadata": {},
   "outputs": [],
   "source": [
    "classifier_remod3 = KNeighborsClassifier(n_neighbors=32,weights='distance',metric='minkowski',p=2)"
   ]
  },
  {
   "cell_type": "code",
   "execution_count": 78,
   "metadata": {},
   "outputs": [
    {
     "name": "stdout",
     "output_type": "stream",
     "text": [
      "Cross-validated scores: [0.71875    0.77419355 0.67741935 0.80645161 0.70967742 0.76666667\n",
      " 0.8        0.8        0.73333333 0.73333333]\n"
     ]
    }
   ],
   "source": [
    "# Using remod\n",
    "scoresmod3 = cross_val_score(classifier_remod3, X,y, cv=10)\n",
    "print 'Cross-validated scores:', scores"
   ]
  },
  {
   "cell_type": "code",
   "execution_count": 79,
   "metadata": {},
   "outputs": [
    {
     "name": "stdout",
     "output_type": "stream",
     "text": [
      "Accuracy: 0.70 (+/- 0.11)\n"
     ]
    }
   ],
   "source": [
    "# Print the mean score and variance\n",
    "print('Accuracy: %0.2f (+/- %0.2f)'% (scoresmod3.mean(), scoresmod3.std()*2))"
   ]
  },
  {
   "cell_type": "code",
   "execution_count": null,
   "metadata": {},
   "outputs": [],
   "source": [
    "# We will continue with age and nodes and compare the scores"
   ]
  },
  {
   "cell_type": "code",
   "execution_count": 80,
   "metadata": {},
   "outputs": [],
   "source": [
    "X = data1.iloc[:, [0,2]]\n",
    "y = data1.iloc[:, 3]"
   ]
  },
  {
   "cell_type": "code",
   "execution_count": 81,
   "metadata": {},
   "outputs": [],
   "source": [
    "classifier_remod4 = KNeighborsClassifier(n_neighbors=32,weights='distance',metric='minkowski',p=2)"
   ]
  },
  {
   "cell_type": "code",
   "execution_count": 82,
   "metadata": {},
   "outputs": [
    {
     "name": "stdout",
     "output_type": "stream",
     "text": [
      "Cross-validated scores: [0.71875    0.77419355 0.67741935 0.80645161 0.70967742 0.76666667\n",
      " 0.8        0.8        0.73333333 0.73333333]\n"
     ]
    }
   ],
   "source": [
    "# Using remod\n",
    "scoresmod4 = cross_val_score(classifier_remod4, X,y, cv=10)\n",
    "print 'Cross-validated scores:', scores"
   ]
  },
  {
   "cell_type": "code",
   "execution_count": 83,
   "metadata": {},
   "outputs": [
    {
     "name": "stdout",
     "output_type": "stream",
     "text": [
      "Accuracy: 0.68 (+/- 0.22)\n"
     ]
    }
   ],
   "source": [
    "# Print the mean score and variance\n",
    "print('Accuracy: %0.2f (+/- %0.2f)'% (scoresmod4.mean(), scoresmod4.std()*2))"
   ]
  },
  {
   "cell_type": "code",
   "execution_count": null,
   "metadata": {},
   "outputs": [],
   "source": [
    "# We will continue with year and nodes and compare the scores"
   ]
  },
  {
   "cell_type": "code",
   "execution_count": 84,
   "metadata": {},
   "outputs": [],
   "source": [
    "X = data1.iloc[:, [1,2]]\n",
    "y = data1.iloc[:, 3]"
   ]
  },
  {
   "cell_type": "code",
   "execution_count": 85,
   "metadata": {},
   "outputs": [],
   "source": [
    "classifier_remod5 = KNeighborsClassifier(n_neighbors=32,weights='distance',metric='minkowski',p=2)"
   ]
  },
  {
   "cell_type": "code",
   "execution_count": 86,
   "metadata": {},
   "outputs": [
    {
     "name": "stdout",
     "output_type": "stream",
     "text": [
      "Cross-validated scores: [0.71875    0.77419355 0.67741935 0.80645161 0.70967742 0.76666667\n",
      " 0.8        0.8        0.73333333 0.73333333]\n"
     ]
    }
   ],
   "source": [
    "# Using remod\n",
    "scoresmod5 = cross_val_score(classifier_remod5, X,y, cv=10)\n",
    "print 'Cross-validated scores:', scores"
   ]
  },
  {
   "cell_type": "code",
   "execution_count": 87,
   "metadata": {},
   "outputs": [
    {
     "name": "stdout",
     "output_type": "stream",
     "text": [
      "Accuracy: 0.72 (+/- 0.16)\n"
     ]
    }
   ],
   "source": [
    "# Print the mean score and variance\n",
    "print('Accuracy: %0.2f (+/- %0.2f)'% (scoresmod5.mean(), scoresmod5.std()*2))"
   ]
  },
  {
   "cell_type": "code",
   "execution_count": 107,
   "metadata": {},
   "outputs": [
    {
     "name": "stdout",
     "output_type": "stream",
     "text": [
      "             precision    recall  f1-score   support\n",
      "\n",
      "          1       0.77      0.92      0.84       225\n",
      "          2       0.51      0.23      0.32        81\n",
      "\n",
      "avg / total       0.70      0.74      0.70       306\n",
      "\n"
     ]
    }
   ],
   "source": [
    "predicted_remod5 = cross_val_predict(classifier_remod5, X, y, cv=10)\n",
    "\n",
    "print classification_report(y,predicted_remod5)"
   ]
  },
  {
   "cell_type": "code",
   "execution_count": null,
   "metadata": {},
   "outputs": [],
   "source": [
    "# We shall proceed to try with individual features"
   ]
  },
  {
   "cell_type": "code",
   "execution_count": 88,
   "metadata": {},
   "outputs": [],
   "source": [
    "#Using age\n",
    "X = data1.iloc[:, [0]]\n",
    "y = data1.iloc[:, 3]"
   ]
  },
  {
   "cell_type": "code",
   "execution_count": 89,
   "metadata": {},
   "outputs": [],
   "source": [
    "classifier_remod6 = KNeighborsClassifier(n_neighbors=32,weights='distance',metric='minkowski',p=2)"
   ]
  },
  {
   "cell_type": "code",
   "execution_count": 90,
   "metadata": {},
   "outputs": [
    {
     "name": "stdout",
     "output_type": "stream",
     "text": [
      "Cross-validated scores: [0.71875    0.77419355 0.67741935 0.80645161 0.70967742 0.76666667\n",
      " 0.8        0.8        0.73333333 0.73333333]\n"
     ]
    }
   ],
   "source": [
    "# Using remod\n",
    "scoresmod6 = cross_val_score(classifier_remod6, X,y, cv=10)\n",
    "print 'Cross-validated scores:', scores"
   ]
  },
  {
   "cell_type": "code",
   "execution_count": 91,
   "metadata": {},
   "outputs": [
    {
     "name": "stdout",
     "output_type": "stream",
     "text": [
      "Accuracy: 0.55 (+/- 0.39)\n"
     ]
    }
   ],
   "source": [
    "# Print the mean score and variance\n",
    "print('Accuracy: %0.2f (+/- %0.2f)'% (scoresmod6.mean(), scoresmod6.std()*2))"
   ]
  },
  {
   "cell_type": "code",
   "execution_count": 106,
   "metadata": {},
   "outputs": [
    {
     "name": "stdout",
     "output_type": "stream",
     "text": [
      "             precision    recall  f1-score   support\n",
      "\n",
      "          1       0.77      0.92      0.84       225\n",
      "          2       0.51      0.23      0.32        81\n",
      "\n",
      "avg / total       0.70      0.74      0.70       306\n",
      "\n"
     ]
    }
   ],
   "source": [
    "predicted_remod6 = cross_val_predict(classifier_remod6, X, y, cv=10)\n",
    "\n",
    "print classification_report(y,predicted_remod6)"
   ]
  },
  {
   "cell_type": "code",
   "execution_count": 92,
   "metadata": {},
   "outputs": [],
   "source": [
    "#Using year\n",
    "X = data1.iloc[:, [1]]\n",
    "y = data1.iloc[:, 3]"
   ]
  },
  {
   "cell_type": "code",
   "execution_count": 93,
   "metadata": {},
   "outputs": [],
   "source": [
    "classifier_remod7 = KNeighborsClassifier(n_neighbors=32,weights='distance',metric='minkowski',p=2)"
   ]
  },
  {
   "cell_type": "code",
   "execution_count": 94,
   "metadata": {},
   "outputs": [
    {
     "name": "stdout",
     "output_type": "stream",
     "text": [
      "Cross-validated scores: [0.71875    0.77419355 0.67741935 0.80645161 0.70967742 0.76666667\n",
      " 0.8        0.8        0.73333333 0.73333333]\n"
     ]
    }
   ],
   "source": [
    "# Using remod\n",
    "scoresmod7 = cross_val_score(classifier_remod7, X,y, cv=10)\n",
    "print 'Cross-validated scores:', scores"
   ]
  },
  {
   "cell_type": "code",
   "execution_count": 95,
   "metadata": {},
   "outputs": [
    {
     "name": "stdout",
     "output_type": "stream",
     "text": [
      "Accuracy: 0.74 (+/- 0.01)\n"
     ]
    }
   ],
   "source": [
    "# Print the mean score and variance\n",
    "print('Accuracy: %0.2f (+/- %0.2f)'% (scoresmod7.mean(), scoresmod7.std()*2))"
   ]
  },
  {
   "cell_type": "code",
   "execution_count": 105,
   "metadata": {},
   "outputs": [
    {
     "name": "stdout",
     "output_type": "stream",
     "text": [
      "             precision    recall  f1-score   support\n",
      "\n",
      "          1       0.77      0.92      0.84       225\n",
      "          2       0.51      0.23      0.32        81\n",
      "\n",
      "avg / total       0.70      0.74      0.70       306\n",
      "\n"
     ]
    }
   ],
   "source": [
    "predicted_remod7 = cross_val_predict(classifier_remod7, X, y, cv=10)\n",
    "\n",
    "print classification_report(y,predicted_remod7)"
   ]
  },
  {
   "cell_type": "code",
   "execution_count": 96,
   "metadata": {},
   "outputs": [],
   "source": [
    "#Using nodes\n",
    "X = data1.iloc[:, [2]]\n",
    "y = data1.iloc[:, 3]"
   ]
  },
  {
   "cell_type": "code",
   "execution_count": 97,
   "metadata": {},
   "outputs": [],
   "source": [
    "classifier_remod8 = KNeighborsClassifier(n_neighbors=32,weights='distance',metric='minkowski',p=2)"
   ]
  },
  {
   "cell_type": "code",
   "execution_count": 98,
   "metadata": {},
   "outputs": [
    {
     "name": "stdout",
     "output_type": "stream",
     "text": [
      "Cross-validated scores: [0.71875    0.77419355 0.67741935 0.80645161 0.70967742 0.76666667\n",
      " 0.8        0.8        0.73333333 0.73333333]\n"
     ]
    }
   ],
   "source": [
    "# Using remod\n",
    "scoresmod8 = cross_val_score(classifier_remod8, X,y, cv=10)\n",
    "print 'Cross-validated scores:', scores"
   ]
  },
  {
   "cell_type": "code",
   "execution_count": 99,
   "metadata": {},
   "outputs": [
    {
     "name": "stdout",
     "output_type": "stream",
     "text": [
      "Accuracy: 0.74 (+/- 0.08)\n"
     ]
    }
   ],
   "source": [
    "# Print the mean score and variance\n",
    "print('Accuracy: %0.2f (+/- %0.2f)'% (scoresmod8.mean(), scoresmod8.std()*2))"
   ]
  },
  {
   "cell_type": "code",
   "execution_count": 103,
   "metadata": {},
   "outputs": [
    {
     "name": "stdout",
     "output_type": "stream",
     "text": [
      "             precision    recall  f1-score   support\n",
      "\n",
      "          1       0.77      0.92      0.84       225\n",
      "          2       0.51      0.23      0.32        81\n",
      "\n",
      "avg / total       0.70      0.74      0.70       306\n",
      "\n"
     ]
    }
   ],
   "source": [
    "predicted_remod8 = cross_val_predict(classifier_remod8, X, y, cv=10)\n",
    "\n",
    "print classification_report(y,predicted_remod8)"
   ]
  },
  {
   "cell_type": "markdown",
   "metadata": {},
   "source": [
    "### Model 2: Decision Tree"
   ]
  },
  {
   "cell_type": "code",
   "execution_count": null,
   "metadata": {},
   "outputs": [],
   "source": [
    "#Load Packages\n",
    "\n",
    "from sklearn.tree import DecisionTreeClassifier, export_graphviz"
   ]
  },
  {
   "cell_type": "code",
   "execution_count": null,
   "metadata": {},
   "outputs": [],
   "source": [
    "# We shall use age and nodes\n",
    "A = data1.iloc[:, [0,2]]\n",
    "b = data1.iloc[:, 3]\n",
    "\n",
    "from sklearn.model_selection import train_test_split\n",
    "\n",
    "#Split the datset into training set and test set\n",
    "A_train, A_test, b_train, b_test = train_test_split(A,b,test_size=0.2,random_state=0)"
   ]
  },
  {
   "cell_type": "code",
   "execution_count": null,
   "metadata": {},
   "outputs": [],
   "source": [
    "#fit the data\n",
    "#Select decision tree classfier\n",
    "clf=DecisionTreeClassifier(criterion = \"gini\", random_state =100,\n",
    "                              max_depth=3, min_samples_leaf=5)\n",
    "\n",
    "fit=clf.fit(A_train,b_train)\n"
   ]
  },
  {
   "cell_type": "code",
   "execution_count": null,
   "metadata": {},
   "outputs": [],
   "source": [
    "#predicting the results\n",
    "b_pred=fit.predict(A_test)\n",
    "b_pred"
   ]
  },
  {
   "cell_type": "code",
   "execution_count": null,
   "metadata": {},
   "outputs": [],
   "source": [
    "#Measure confusion matrix\n",
    "from sklearn.metrics import confusion_matrix\n",
    "bm=confusion_matrix(b_test,b_pred)\n",
    "print bm"
   ]
  },
  {
   "cell_type": "code",
   "execution_count": null,
   "metadata": {},
   "outputs": [],
   "source": [
    "#Classification precision/recall/f1score\n",
    "from sklearn.metrics import classification_report\n",
    "print classification_report(b_test,b_pred)"
   ]
  },
  {
   "cell_type": "code",
   "execution_count": null,
   "metadata": {},
   "outputs": [],
   "source": [
    "#Visualising the tree\n",
    "from sklearn import tree\n"
   ]
  },
  {
   "cell_type": "code",
   "execution_count": null,
   "metadata": {},
   "outputs": [],
   "source": [
    "#def visualize_tree(tree, feature_names):\n",
    "with open('haberman_data2.dot', 'w') as f:\n",
    "    f = tree.export_graphviz(clf,feature_names=[\"age\",\"node\"],out_file=f, filled=True, rounded=True, special_characters=True)\n",
    "\n",
    "    "
   ]
  },
  {
   "cell_type": "code",
   "execution_count": null,
   "metadata": {},
   "outputs": [],
   "source": [
    "from sklearn.metrics import accuracy_score\n",
    "print \"Accuracy is \", accuracy_score(b_test,b_pred)*100"
   ]
  }
 ],
 "metadata": {
  "kernelspec": {
   "display_name": "Python 2",
   "language": "python",
   "name": "python2"
  },
  "language_info": {
   "codemirror_mode": {
    "name": "ipython",
    "version": 2
   },
   "file_extension": ".py",
   "mimetype": "text/x-python",
   "name": "python",
   "nbconvert_exporter": "python",
   "pygments_lexer": "ipython2",
   "version": "2.7.14"
  }
 },
 "nbformat": 4,
 "nbformat_minor": 2
}
